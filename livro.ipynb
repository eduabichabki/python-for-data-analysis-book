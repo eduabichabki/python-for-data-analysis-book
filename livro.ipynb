{
 "cells": [
  {
   "cell_type": "code",
   "execution_count": 1,
   "id": "0bb97c5c-3746-4d46-a58e-42a3820f8916",
   "metadata": {},
   "outputs": [],
   "source": [
    "import numpy as np\n",
    "import pandas as pd\n",
    "pd.options.display.max_columns = 20\n",
    "pd.options.display.max_rows = 20\n",
    "pd.options.display.max_colwidth = 80\n",
    "np.set_printoptions(precision=4, suppress=True)"
   ]
  },
  {
   "cell_type": "code",
   "execution_count": 2,
   "id": "e0bf9f48-92c3-4a1e-96dd-6b708d9ad2e8",
   "metadata": {},
   "outputs": [
    {
     "name": "stdout",
     "output_type": "stream",
     "text": [
      "[-0.017743984151065727, 1.008593824390071, -0.2849521054685346, -1.5859941801704833, 0.5554832558228016, 0.6143902033566603, -0.8946977820477403]\n"
     ]
    }
   ],
   "source": [
    "data = [np.random.standard_normal() for i in range(7)]\n",
    "print(data)"
   ]
  },
  {
   "cell_type": "code",
   "execution_count": 3,
   "id": "01baf61f-63cd-4b39-a901-a8f386c5f712",
   "metadata": {},
   "outputs": [
    {
     "data": {
      "text/plain": [
       "[-0.017743984151065727,\n",
       " 1.008593824390071,\n",
       " -0.2849521054685346,\n",
       " -1.5859941801704833,\n",
       " 0.5554832558228016,\n",
       " 0.6143902033566603,\n",
       " -0.8946977820477403]"
      ]
     },
     "execution_count": 3,
     "metadata": {},
     "output_type": "execute_result"
    }
   ],
   "source": [
    "data"
   ]
  },
  {
   "cell_type": "code",
   "execution_count": 4,
   "id": "6baf0c94-0f4d-481c-96b5-17c6085e51b8",
   "metadata": {},
   "outputs": [
    {
     "data": {
      "text/plain": [
       "\u001b[1;31mType:\u001b[0m        list\n",
       "\u001b[1;31mString form:\u001b[0m [-0.017743984151065727, 1.008593824390071, -0.2849521054685346, -1.5859941801704833, 0.5554832558228016, 0.6143902033566603, -0.8946977820477403]\n",
       "\u001b[1;31mLength:\u001b[0m      7\n",
       "\u001b[1;31mDocstring:\u001b[0m  \n",
       "Built-in mutable sequence.\n",
       "\n",
       "If no argument is given, the constructor creates a new empty list.\n",
       "The argument must be an iterable if specified."
      ]
     },
     "metadata": {},
     "output_type": "display_data"
    }
   ],
   "source": [
    "data?"
   ]
  },
  {
   "cell_type": "code",
   "execution_count": null,
   "id": "a524db66-3615-45e7-91c9-90d372eee340",
   "metadata": {},
   "outputs": [],
   "source": []
  }
 ],
 "metadata": {
  "kernelspec": {
   "display_name": "Python 3 (ipykernel)",
   "language": "python",
   "name": "python3"
  },
  "language_info": {
   "codemirror_mode": {
    "name": "ipython",
    "version": 3
   },
   "file_extension": ".py",
   "mimetype": "text/x-python",
   "name": "python",
   "nbconvert_exporter": "python",
   "pygments_lexer": "ipython3",
   "version": "3.13.5"
  }
 },
 "nbformat": 4,
 "nbformat_minor": 5
}
